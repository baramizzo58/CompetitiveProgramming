def bikinKue(time):
  t = time
  cookieTime = 640
  muffinTime = 1080
  brownieTime = 1320
  pieTime = 1810
  tartTime = 4200
  
  cookie = 0 
  muffin = 0 
  brownie = 0 
  pie = 0 
  tart = 0 
  
  while (t >= 0) & ((t-cookieTime) >= 0) & (cookie < 2):
    cookie = cookie + 1 
    t -= cookieTime
      
  while (t >= 0) & ((t-muffinTime) >= 0) & (muffin < 2):
    muffin += 1 
    t -= muffinTime
        
  while (t >= 0) & ((t-brownieTime) >= 0) & (brownie < 2):
    brownie += 1 
    t -= brownieTime
  
  while (t >= 0) & ((t-pieTime) >= 0) & (pie < 2):
    pie += 1 
    t -= pieTime
            
  while (t >= 0) & ((t-tartTime) >= 0) & (tart < 2):
    tart += 1 
    t -= tartTime
  
  if cookie>0:
    print(cookie, 'Cookie')
  if muffin>0:
    print(muffin, 'Muffin')
  if brownie>0:
    print(brownie, 'Brownie')
  if pie>0:
    print(pie, 'Pie')
  if tart>0:
    print(tart, 'tart')
    

waktu = input().split()
jam = int(waktu[0])
menit = int(waktu[1])
detik = int(waktu[2])
detikJam = 60*60*jam
detikMenit = 60*menit
totalWaktu = detik + detikMenit + detikJam
jawaban = bikinKue(totalWaktu)
