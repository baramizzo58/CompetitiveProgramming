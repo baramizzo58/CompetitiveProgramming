{
 "cells": [
  {
   "cell_type": "markdown",
   "metadata": {},
   "source": [
    "def bikinKue(time): t = time cookieTime = 640 muffinTime = 1080\n",
    "brownieTime = 1320 pieTime = 1810 tartTime = 4200\n",
    "\n",
    "cookie = 0 muffin = 0 brownie = 0 pie = 0 tart = 0\n",
    "\n",
    "while (t \\>= 0) & ((t-cookieTime) \\>= 0) & (cookie \\< 2): cookie =\n",
    "cookie + 1 t -= cookieTime\n",
    "\n",
    "while (t \\>= 0) & ((t-muffinTime) \\>= 0) & (muffin \\< 2): muffin += 1 t\n",
    "-= muffinTime\n",
    "\n",
    "while (t \\>= 0) & ((t-brownieTime) \\>= 0) & (brownie \\< 2): brownie += 1\n",
    "t -= brownieTime\n",
    "\n",
    "while (t \\>= 0) & ((t-pieTime) \\>= 0) & (pie \\< 2): pie += 1 t -=\n",
    "pieTime\n",
    "\n",
    "while (t \\>= 0) & ((t-tartTime) \\>= 0) & (tart \\< 2): tart += 1 t -=\n",
    "tartTime\n",
    "\n",
    "if cookie\\>0: print(cookie, ‘Cookie’) if muffin\\>0: print(muffin,\n",
    "‘Muffin’) if brownie\\>0: print(brownie, ‘Brownie’) if pie\\>0: print(pie,\n",
    "‘Pie’) if tart\\>0: print(tart, ‘tart’)\n",
    "\n",
    "waktu = input().split() jam = int(waktu\\[0\\]) menit = int(waktu\\[1\\])\n",
    "detik = int(waktu\\[2\\]) detikJam = 60*60*jam detikMenit = 60\\*menit\n",
    "totalWaktu = detik + detikMenit + detikJam jawaban =\n",
    "bikinKue(totalWaktu)"
   ],
   "id": "42a14256-91c8-446e-92a7-ab6bf11055d3"
  }
 ],
 "nbformat": 4,
 "nbformat_minor": 5,
 "metadata": {}
}
